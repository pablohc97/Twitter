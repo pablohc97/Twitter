{
 "cells": [
  {
   "cell_type": "code",
   "execution_count": 9,
   "metadata": {},
   "outputs": [],
   "source": [
    "import tweepy\n",
    "from tweepy import OAuthHandler\n",
    "import datetime\n",
    "import dateutil.parser as parser\n",
    "import numpy as np\n",
    "import pandas as pd\n",
    "from my_profile import my_profile"
   ]
  },
  {
   "cell_type": "code",
   "execution_count": 13,
   "metadata": {},
   "outputs": [],
   "source": [
    "def my_profile():\n",
    "    my_profile = api.me()\n",
    "\n",
    "    user = my_profile.name\n",
    "    loc = my_profile.location\n",
    "    id_me = my_profile.id\n",
    "    created = my_profile.created_at.date()\n",
    "    profile_img = my_profile.default_profile_image\n",
    "    favs = my_profile.favourites_count\n",
    "    followers = my_profile.followers_count\n",
    "    friends = my_profile.friends_count\n",
    "    geo = my_profile.geo_enabled\n",
    "    profile_img = my_profile.profile_image_url_https\n",
    "    background_img = my_profile.profile_background_image_url_https\n",
    "        \n",
    "    me = {'Id': id_me, 'Name': user, 'Location': loc, 'Created': created, 'Profile image': profile_img, 'Favs count': favs,\n",
    "          'Followers': followers, 'Following': friends, 'Geolocation': geo, 'Profile image': profile_img,\n",
    "          'Background image': background_img}\n",
    "    return me\n",
    "\n",
    "\n",
    "def hashtags_fn(tweet_i):\n",
    "    if len(tweet_i.entities.get('hashtags')) != 0:\n",
    "        hashtags = []\n",
    "        for hstg in tweet_i.entities.get('hashtags'):\n",
    "            hashtags.append(hstg.get('text'))\n",
    "    else:\n",
    "        hashtags = None\n",
    "    return hashtags\n",
    "\n",
    "def user_mentions_fn(tweet_i):\n",
    "    if len(tweet_i.entities.get('user_mentions')) != 0:\n",
    "        mentions = []\n",
    "        for mention in tweet_i.entities.get('user_mentions'):\n",
    "            mentions.append(mention.get('screen_name'))\n",
    "    else:\n",
    "        mentions = None\n",
    "    return mentions\n",
    "\n",
    "def urls_fn(tweet_i):\n",
    "    if len(tweet_i.entities.get('urls')) != 0:\n",
    "        urls = []\n",
    "        for url_info in tweet_i.entities.get('urls'):\n",
    "            urls.append(url_info.get('expanded_url'))\n",
    "    else:\n",
    "        urls = None\n",
    "    return urls\n",
    "\n",
    "def urls_user(profile):\n",
    "    if profile.entities.get('url').get('urls') != 0:\n",
    "        urls = []\n",
    "        for url_info in profile.entities.get('url').get('urls'):\n",
    "            urls.append(url_info.get('expanded_url'))\n",
    "    else:\n",
    "        urls = None\n",
    "    return urls\n",
    "\n",
    "def media_fn(tweet_i):\n",
    "    if tweet_i.entities.get('media') != None:\n",
    "        media = []\n",
    "        for media_info in tweet_i.entities.get('media'):\n",
    "            media.append(media_info.get('media_url_https'))\n",
    "    else:\n",
    "        media = None\n",
    "    return media\n",
    "\n",
    "def get_info_tweet(tweet_i):\n",
    "    tweet_dict = {'Date': tweet_i.created_at,\n",
    "                  'ID Tweet': tweet_i.id,\n",
    "                  'User': tweet_i.author._json.get('name'),\n",
    "                  'Tweet': tweet_i.text,\n",
    "                  'Language': tweet_i.lang,\n",
    "                  'Retweet': tweet_i.retweet_count,\n",
    "                  'Fav': tweet_i.favorite_count,\n",
    "                  'Reply to id': tweet_i.in_reply_to_user_id,\n",
    "                  'Reply to name': tweet_i.in_reply_to_screen_name,\n",
    "                  'Coordinates': tweet_i.coordinates, \n",
    "                  'Hastags': hashtags_fn(tweet_i),\n",
    "                  'URLs': urls_fn(tweet_i),\n",
    "                  'User mentions': user_mentions_fn(tweet_i),\n",
    "                  'Images/videos': media_fn(tweet_i)}\n",
    "    return tweet_dict\n",
    "\n",
    "def last_n_tweets(n):\n",
    "    tweets = []\n",
    "    for tweet in tweepy.Cursor(api.home_timeline).items(n):\n",
    "        tweets.append(get_info_tweet(tweet))\n",
    "        \n",
    "    return pd.DataFrame(tweets).fillna(value = np.nan)\n",
    "\n",
    "\n",
    "def last_n_tweets_user(user, n):\n",
    "    tweets = []\n",
    "    for tweet in tweepy.Cursor(api.user_timeline, id = user).items(n):\n",
    "        tweets.append(get_info_tweet(tweet))\n",
    "        \n",
    "    return pd.DataFrame(tweets).fillna(value = np.nan)\n",
    "\n",
    "def last_n_tweets_word(word, n):\n",
    "    tweets = []\n",
    "    for tweet in tweepy.Cursor(api.search, q = f\"\\\"{word}\\\"\", lang = \"es\").items(n):\n",
    "        tweets.append(get_info_tweet(tweet))\n",
    "        \n",
    "    return pd.DataFrame(tweets).fillna(value = np.nan)\n",
    "\n",
    "\n",
    "def last_n_tweets_city(city, n):\n",
    "    city_data = api.geo_search(query = city, granularity = \"city\")\n",
    "    \n",
    "    for i, v in enumerate(city_data):\n",
    "        print(i, v.full_name)\n",
    "        \n",
    "    num = int(input('Select the number:'))\n",
    "    \n",
    "    tweets = []\n",
    "    for tweet in tweepy.Cursor(api.search, q = \"place:%s\" % city_data[num].id, lang = \"es\").items(n):\n",
    "        tweets.append(get_info_tweet(tweet))\n",
    "        \n",
    "    return pd.DataFrame(tweets).fillna(value = np.nan)\n",
    "\n",
    "\n",
    "def get_profile(user):\n",
    "    profile = api.get_user(user)\n",
    "\n",
    "    user = profile.name\n",
    "    loc = profile.location\n",
    "    id_me = profile.id\n",
    "    created = profile.created_at.date()\n",
    "    profile_img = profile.default_profile_image\n",
    "    favs = profile.favourites_count\n",
    "    followers = profile.followers_count\n",
    "    friends = profile.friends_count\n",
    "    url_prof_des = urls_user(profile)\n",
    "    geo = profile.geo_enabled\n",
    "    profile_img = profile.profile_image_url_https\n",
    "    background_img = profile.profile_background_image_url_https\n",
    "        \n",
    "    profile = {'Id': id_me, 'Name': user, 'Location': loc, 'Created': created, 'Profile image': profile_img, \n",
    "               'Favs count': favs, 'Followers': followers, 'Following': friends, 'Geolocation': geo, \n",
    "               'Profile image': profile_img, 'Background image': background_img, 'URL profile description': url_prof_des}\n",
    "    return profile"
   ]
  },
  {
   "cell_type": "markdown",
   "metadata": {},
   "source": [
    "# Api authentication\n",
    "\n",
    "First we read our credentials from the file **config_twitter.py** and we conect to twitter through the api."
   ]
  },
  {
   "cell_type": "code",
   "execution_count": 12,
   "metadata": {},
   "outputs": [
    {
     "name": "stdout",
     "output_type": "stream",
     "text": [
      "Authentication OK\n"
     ]
    }
   ],
   "source": [
    "import config_twitter\n",
    "\n",
    "auth = OAuthHandler(config_twitter.consumer_key, config_twitter.consumer_secret)\n",
    "auth.set_access_token(config_twitter.access_token, config_twitter.access_secret)\n",
    "\n",
    "api = tweepy.API(auth)\n",
    "\n",
    "try:\n",
    "    api.verify_credentials()\n",
    "    print(\"Authentication OK\")\n",
    "except:\n",
    "    print(\"Error during authentication\")"
   ]
  },
  {
   "cell_type": "markdown",
   "metadata": {},
   "source": [
    "# Profile information\n",
    "\n",
    "## Our profile\n",
    "\n",
    "We can obtain our profile information."
   ]
  },
  {
   "cell_type": "code",
   "execution_count": 14,
   "metadata": {
    "scrolled": false
   },
   "outputs": [
    {
     "data": {
      "text/plain": [
       "{'Id': 1363194821490446339,\n",
       " 'Name': 'Pablo',\n",
       " 'Location': '',\n",
       " 'Created': datetime.date(2021, 2, 20),\n",
       " 'Profile image': 'https://abs.twimg.com/sticky/default_profile_images/default_profile_normal.png',\n",
       " 'Favs count': 1,\n",
       " 'Followers': 1,\n",
       " 'Following': 1,\n",
       " 'Geolocation': False,\n",
       " 'Background image': None}"
      ]
     },
     "execution_count": 14,
     "metadata": {},
     "output_type": "execute_result"
    }
   ],
   "source": [
    "my_profile()"
   ]
  },
  {
   "cell_type": "markdown",
   "metadata": {},
   "source": [
    "## Other profiles\n",
    "\n",
    "Also we can get the information from any user profile using its username."
   ]
  },
  {
   "cell_type": "code",
   "execution_count": null,
   "metadata": {},
   "outputs": [],
   "source": [
    "get_profile('Tesla')"
   ]
  },
  {
   "cell_type": "markdown",
   "metadata": {},
   "source": [
    "# Tweets\n",
    "\n",
    "We can make different filters for tweets. For each tweet we obtain the date and time in which it is published, the unique id, the user who publishes it, the language, the number of retweets and favorites, the coordinates from where it is published, if it has been a response to any user and the hastags, urls, mentioned users and images or videos it contains.\n",
    "\n",
    "## Last tweets\n",
    "\n",
    "We get the last N tweets posted by users we are following."
   ]
  },
  {
   "cell_type": "code",
   "execution_count": null,
   "metadata": {},
   "outputs": [],
   "source": [
    "last_n_tweets(10)"
   ]
  },
  {
   "cell_type": "markdown",
   "metadata": {},
   "source": [
    "## Last tweets user\n",
    "\n",
    "We get the last N tweets posted by an user that we specify by its username."
   ]
  },
  {
   "cell_type": "code",
   "execution_count": null,
   "metadata": {},
   "outputs": [],
   "source": [
    "last_n_tweets_user('elonmusk', 10)"
   ]
  },
  {
   "cell_type": "markdown",
   "metadata": {},
   "source": [
    "## Last tweets word\n",
    "\n",
    "We get the last N tweets posted that contain a word."
   ]
  },
  {
   "cell_type": "code",
   "execution_count": null,
   "metadata": {},
   "outputs": [],
   "source": [
    "last_n_tweets_word('covid', 10)"
   ]
  },
  {
   "cell_type": "markdown",
   "metadata": {},
   "source": [
    "## Last tweets location\n",
    "\n",
    "We get the last N tweets posted from a location."
   ]
  },
  {
   "cell_type": "code",
   "execution_count": null,
   "metadata": {},
   "outputs": [],
   "source": [
    "last_n_tweets_city('Valencia', 10)"
   ]
  }
 ],
 "metadata": {
  "kernelspec": {
   "display_name": "Python 3",
   "language": "python",
   "name": "python3"
  },
  "language_info": {
   "codemirror_mode": {
    "name": "ipython",
    "version": 3
   },
   "file_extension": ".py",
   "mimetype": "text/x-python",
   "name": "python",
   "nbconvert_exporter": "python",
   "pygments_lexer": "ipython3",
   "version": "3.8.3"
  }
 },
 "nbformat": 4,
 "nbformat_minor": 4
}
